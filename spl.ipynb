{
 "metadata": {
  "language_info": {
   "codemirror_mode": {
    "name": "ipython",
    "version": 3
   },
   "file_extension": ".py",
   "mimetype": "text/x-python",
   "name": "python",
   "nbconvert_exporter": "python",
   "pygments_lexer": "ipython3",
   "version": "3.9.1-final"
  },
  "orig_nbformat": 2,
  "kernelspec": {
   "name": "python3",
   "display_name": "Python 3.9.1 64-bit",
   "metadata": {
    "interpreter": {
     "hash": "4629eba9299277b0073d2a990bba24370e7fec86e25fb9c6447601598896f5e7"
    }
   }
  }
 },
 "nbformat": 4,
 "nbformat_minor": 2,
 "cells": [
  {
   "cell_type": "code",
   "execution_count": 18,
   "metadata": {},
   "outputs": [],
   "source": [
    "import pandas as pd \n",
    "import numpy as np"
   ]
  },
  {
   "cell_type": "code",
   "execution_count": 2,
   "metadata": {},
   "outputs": [],
   "source": [
    "contacts = pd.read_json('contacts.json')"
   ]
  },
  {
   "cell_type": "code",
   "execution_count": 3,
   "metadata": {},
   "outputs": [
    {
     "output_type": "execute_result",
     "data": {
      "text/plain": [
       "   Id               Email         Phone  Contacts                    OrderId\n",
       "0   0      gkzAbIy@qq.com                       1                           \n",
       "1   1                      329442681752         4  vDDJJcxfLtSfkooPhbYnJdxov\n",
       "2   2                        9125983679         0                           \n",
       "3   3  mdllpYmE@gmail.com                       0  bHquEnCbbsGLqllwryxPsNOxa\n",
       "4   4                         300364407         2                           "
      ],
      "text/html": "<div>\n<style scoped>\n    .dataframe tbody tr th:only-of-type {\n        vertical-align: middle;\n    }\n\n    .dataframe tbody tr th {\n        vertical-align: top;\n    }\n\n    .dataframe thead th {\n        text-align: right;\n    }\n</style>\n<table border=\"1\" class=\"dataframe\">\n  <thead>\n    <tr style=\"text-align: right;\">\n      <th></th>\n      <th>Id</th>\n      <th>Email</th>\n      <th>Phone</th>\n      <th>Contacts</th>\n      <th>OrderId</th>\n    </tr>\n  </thead>\n  <tbody>\n    <tr>\n      <th>0</th>\n      <td>0</td>\n      <td>gkzAbIy@qq.com</td>\n      <td></td>\n      <td>1</td>\n      <td></td>\n    </tr>\n    <tr>\n      <th>1</th>\n      <td>1</td>\n      <td></td>\n      <td>329442681752</td>\n      <td>4</td>\n      <td>vDDJJcxfLtSfkooPhbYnJdxov</td>\n    </tr>\n    <tr>\n      <th>2</th>\n      <td>2</td>\n      <td></td>\n      <td>9125983679</td>\n      <td>0</td>\n      <td></td>\n    </tr>\n    <tr>\n      <th>3</th>\n      <td>3</td>\n      <td>mdllpYmE@gmail.com</td>\n      <td></td>\n      <td>0</td>\n      <td>bHquEnCbbsGLqllwryxPsNOxa</td>\n    </tr>\n    <tr>\n      <th>4</th>\n      <td>4</td>\n      <td></td>\n      <td>300364407</td>\n      <td>2</td>\n      <td></td>\n    </tr>\n  </tbody>\n</table>\n</div>"
     },
     "metadata": {},
     "execution_count": 3
    }
   ],
   "source": [
    "contacts.head()"
   ]
  },
  {
   "cell_type": "code",
   "execution_count": 4,
   "metadata": {},
   "outputs": [],
   "source": [
    "email = pd.DataFrame(contacts[['Id', 'Email']])\n",
    "email.replace('', np.nan, inplace=True)\n",
    "email.dropna(subset=['Email'], inplace=True)\n",
    "email_nice = []\n",
    "for k, v in email.groupby('Email'):\n",
    "    email_nice.append(list(v['Id']))"
   ]
  },
  {
   "cell_type": "code",
   "execution_count": 5,
   "metadata": {},
   "outputs": [],
   "source": [
    "phone = pd.DataFrame(contacts[['Id', 'Phone']])\n",
    "phone.replace('', np.nan, inplace=True)\n",
    "phone.dropna(subset=['Phone'], inplace=True)\n",
    "phone_nice = []\n",
    "for k, v in phone.groupby('Phone'):\n",
    "    phone_nice.append(list(v['Id']))"
   ]
  },
  {
   "cell_type": "code",
   "execution_count": 6,
   "metadata": {},
   "outputs": [],
   "source": [
    "orderId = pd.DataFrame(contacts[['Id', 'OrderId']])\n",
    "orderId.replace('', np.nan, inplace=True)\n",
    "orderId.dropna(subset=['OrderId'], inplace=True)\n",
    "orderId_nice = []\n",
    "for k, v in orderId.groupby('OrderId'):\n",
    "    orderId_nice.append(list(v['Id']))"
   ]
  },
  {
   "cell_type": "code",
   "execution_count": 7,
   "metadata": {},
   "outputs": [],
   "source": [
    "link = email_nice + phone_nice + orderId_nice"
   ]
  },
  {
   "cell_type": "code",
   "execution_count": 8,
   "metadata": {},
   "outputs": [
    {
     "output_type": "stream",
     "name": "stdout",
     "text": [
      "<generator object connected_components at 0x0000022DFC175430>\n"
     ]
    }
   ],
   "source": [
    "import networkx \n",
    "from networkx.algorithms.components.connected import connected_components\n",
    "\n",
    "\n",
    "def to_graph(l):\n",
    "    G = networkx.Graph()\n",
    "    for part in l:\n",
    "        # each sublist is a bunch of nodes\n",
    "        G.add_nodes_from(part)\n",
    "        # it also imlies a number of edges:\n",
    "        G.add_edges_from(to_edges(part))\n",
    "    return G\n",
    "\n",
    "def to_edges(l):\n",
    "    \"\"\" \n",
    "        treat `l` as a Graph and returns it's edges \n",
    "        to_edges(['a','b','c','d']) -> [(a,b), (b,c),(c,d)]\n",
    "    \"\"\"\n",
    "    it = iter(l)\n",
    "    last = next(it)\n",
    "\n",
    "    for current in it:\n",
    "        yield last, current\n",
    "        last = current    \n",
    "\n",
    "G = to_graph(link)\n",
    "print(connected_components(G))"
   ]
  },
  {
   "cell_type": "code",
   "execution_count": 34,
   "metadata": {
    "tags": []
   },
   "outputs": [],
   "source": [
    "total_link = []\n",
    "for i in connected_components(G):\n",
    "    peep = list(i)\n",
    "    peep.sort()\n",
    "    total_link.append(peep)"
   ]
  },
  {
   "cell_type": "code",
   "execution_count": 35,
   "metadata": {},
   "outputs": [
    {
     "output_type": "execute_result",
     "data": {
      "text/plain": [
       "291904"
      ]
     },
     "metadata": {},
     "execution_count": 35
    }
   ],
   "source": [
    "len(total_link)"
   ]
  },
  {
   "cell_type": "code",
   "execution_count": 36,
   "metadata": {},
   "outputs": [],
   "source": [
    "ans = {}\n",
    "for i in total_link:\n",
    "    sum = 0\n",
    "    trace = ''\n",
    "    sum = contacts.iloc[i]['Contacts'].sum()\n",
    "    for j in i:\n",
    "        trace += '{0}-'.format(j)\n",
    "    trace = trace[:-1]\n",
    "    trace += ', {0}'.format(sum)\n",
    "    for j in i:\n",
    "        ans[j] = trace"
   ]
  },
  {
   "cell_type": "code",
   "execution_count": 37,
   "metadata": {},
   "outputs": [],
   "source": [
    "answer = pd.DataFrame.from_dict(ans, orient = 'index')"
   ]
  },
  {
   "cell_type": "code",
   "execution_count": 38,
   "metadata": {},
   "outputs": [
    {
     "output_type": "execute_result",
     "data": {
      "text/plain": [
       "                             0\n",
       "112387        112387-470075, 4\n",
       "470075        112387-470075, 4\n",
       "338154               338154, 2\n",
       "426495               426495, 2\n",
       "37868   37868-126317-308856, 7"
      ],
      "text/html": "<div>\n<style scoped>\n    .dataframe tbody tr th:only-of-type {\n        vertical-align: middle;\n    }\n\n    .dataframe tbody tr th {\n        vertical-align: top;\n    }\n\n    .dataframe thead th {\n        text-align: right;\n    }\n</style>\n<table border=\"1\" class=\"dataframe\">\n  <thead>\n    <tr style=\"text-align: right;\">\n      <th></th>\n      <th>0</th>\n    </tr>\n  </thead>\n  <tbody>\n    <tr>\n      <th>112387</th>\n      <td>112387-470075, 4</td>\n    </tr>\n    <tr>\n      <th>470075</th>\n      <td>112387-470075, 4</td>\n    </tr>\n    <tr>\n      <th>338154</th>\n      <td>338154, 2</td>\n    </tr>\n    <tr>\n      <th>426495</th>\n      <td>426495, 2</td>\n    </tr>\n    <tr>\n      <th>37868</th>\n      <td>37868-126317-308856, 7</td>\n    </tr>\n  </tbody>\n</table>\n</div>"
     },
     "metadata": {},
     "execution_count": 38
    }
   ],
   "source": [
    "answer.head()"
   ]
  },
  {
   "cell_type": "code",
   "execution_count": 42,
   "metadata": {},
   "outputs": [],
   "source": [
    "answer = answer.sort_index()"
   ]
  },
  {
   "cell_type": "code",
   "execution_count": 40,
   "metadata": {},
   "outputs": [],
   "source": [
    "answer.columns = ['ticket_trace/contact']\n",
    "answer.index.name = 'ticket_id'"
   ]
  },
  {
   "cell_type": "code",
   "execution_count": 43,
   "metadata": {},
   "outputs": [
    {
     "output_type": "execute_result",
     "data": {
      "text/plain": [
       "                                   ticket_trace/contact\n",
       "ticket_id                                              \n",
       "0                                                  0, 1\n",
       "1          1-2458-98519-115061-140081-165605-476346, 12\n",
       "2                             2-159312-322639-348955, 4\n",
       "3                                                  3, 0\n",
       "4                                                  4, 2"
      ],
      "text/html": "<div>\n<style scoped>\n    .dataframe tbody tr th:only-of-type {\n        vertical-align: middle;\n    }\n\n    .dataframe tbody tr th {\n        vertical-align: top;\n    }\n\n    .dataframe thead th {\n        text-align: right;\n    }\n</style>\n<table border=\"1\" class=\"dataframe\">\n  <thead>\n    <tr style=\"text-align: right;\">\n      <th></th>\n      <th>ticket_trace/contact</th>\n    </tr>\n    <tr>\n      <th>ticket_id</th>\n      <th></th>\n    </tr>\n  </thead>\n  <tbody>\n    <tr>\n      <th>0</th>\n      <td>0, 1</td>\n    </tr>\n    <tr>\n      <th>1</th>\n      <td>1-2458-98519-115061-140081-165605-476346, 12</td>\n    </tr>\n    <tr>\n      <th>2</th>\n      <td>2-159312-322639-348955, 4</td>\n    </tr>\n    <tr>\n      <th>3</th>\n      <td>3, 0</td>\n    </tr>\n    <tr>\n      <th>4</th>\n      <td>4, 2</td>\n    </tr>\n  </tbody>\n</table>\n</div>"
     },
     "metadata": {},
     "execution_count": 43
    }
   ],
   "source": [
    "answer.head()"
   ]
  },
  {
   "cell_type": "code",
   "execution_count": 45,
   "metadata": {},
   "outputs": [],
   "source": [
    "answer.to_csv(r'C:\\Users\\vuduc\\Desktop\\ans.csv')"
   ]
  },
  {
   "cell_type": "code",
   "execution_count": null,
   "metadata": {},
   "outputs": [],
   "source": []
  }
 ]
}